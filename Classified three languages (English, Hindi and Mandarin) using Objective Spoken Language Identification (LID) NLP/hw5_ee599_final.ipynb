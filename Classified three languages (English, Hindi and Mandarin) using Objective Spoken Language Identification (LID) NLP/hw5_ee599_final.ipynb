{
  "nbformat": 4,
  "nbformat_minor": 0,
  "metadata": {
    "kernelspec": {
      "display_name": "Python 3",
      "language": "python",
      "name": "python3"
    },
    "language_info": {
      "codemirror_mode": {
        "name": "ipython",
        "version": 3
      },
      "file_extension": ".py",
      "mimetype": "text/x-python",
      "name": "python",
      "nbconvert_exporter": "python",
      "pygments_lexer": "ipython3",
      "version": "3.7.9"
    },
    "colab": {
      "name": "Source_code.ipynb",
      "provenance": []
    },
    "accelerator": "GPU"
  },
  "cells": [
    {
      "cell_type": "code",
      "metadata": {
        "id": "qGNfHSM9uaQ_"
      },
      "source": [
        "import librosa\n",
        "import os\n",
        "import numpy as np\n",
        "import pandas as pd\n",
        "import glob, os\n",
        "from dask.distributed import LocalCluster\n",
        "from dask.diagnostics import ProgressBar\n",
        "\n",
        "import argparse\n",
        "import matplotlib.pyplot as plt\n",
        "import shutil\n",
        "from tensorflow.keras.layers import Input, Dense, GRU, Dropout\n",
        "from tensorflow.keras import Model\n",
        "import tensorflow\n",
        "from tensorflow import keras\n",
        "\n",
        "from tensorflow.keras import regularizers\n",
        "from sklearn.utils import class_weight\n",
        "from tensorflow.keras.models import load_model\n",
        "\n",
        "\n"
      ],
      "execution_count": 1,
      "outputs": []
    },
    {
      "cell_type": "code",
      "metadata": {
        "colab": {
          "base_uri": "https://localhost:8080/"
        },
        "id": "MJHunpk6uu-z",
        "outputId": "e1403984-d07a-44b1-e1a0-a6d6c738c7d1"
      },
      "source": [
        "# Mount GDrive\n",
        "\n",
        "from google.colab import drive\n",
        "drive.mount('/content/drive')"
      ],
      "execution_count": 2,
      "outputs": [
        {
          "output_type": "stream",
          "text": [
            "Mounted at /content/drive\n"
          ],
          "name": "stdout"
        }
      ]
    },
    {
      "cell_type": "code",
      "metadata": {
        "id": "xuIoPvCyu8tS"
      },
      "source": [
        "import os\n",
        "os.chdir(\"/content/drive/My Drive/EE599_HW6\")"
      ],
      "execution_count": 3,
      "outputs": []
    },
    {
      "cell_type": "code",
      "metadata": {
        "id": "-4ySxeh-uaRA"
      },
      "source": [
        "top_db=30\n",
        "train_file = '/content/drive/MyDrive/EE599_HW6/train/'\n",
        "for subdir, dirs, files in os.walk(train_file): \n",
        "    for file in files:\n",
        "      #print(subdir)\n",
        "        print(file)\n",
        "        y, sr = librosa.load(subdir + \"/\" + file ,sr=16000)\n",
        "        # print(y)\n",
        "        # intervals = librosa.effects.split(y, top_db=top_db)\n",
        "        # y_new = np.zeros((1))\n",
        "        # for interval in intervals:\n",
        "        #     y_new = np.concatenate((y_new, y[interval[0]: interval[1]]))\n",
        "        # print(y_new)\n",
        "        if 'train_english' in subdir: \n",
        "            y= y[abs(y )>0.01]\n",
        "            \n",
        "            mat = librosa.feature.mfcc(y=y, sr=sr, n_mfcc=64, n_fft =int(sr*0.025), hop_length = int(sr*0.010))\n",
        "            preprocess_train_english = mat[:,0:1000].T\n",
        "            train_seq_eng = np.append(train_seq_eng, preprocess_train_english)\n",
        "        elif 'train_hindi' in subdir:\n",
        "            y  = y [abs(y )>0.01]\n",
        "            \n",
        "            mat = librosa.feature.mfcc(y=y, sr=sr, n_mfcc=64, n_fft =int(sr*0.025), hop_length = int(sr*0.010))\n",
        "            preprocess_train_hindi = mat[:,0:1000].T\n",
        "            train_seq_hindi = np.append(train_seq_hindi, preprocess_train_hindi)\n",
        "        else:\n",
        "            y = y[abs(y)>0.008]\n",
        "            \n",
        "            mat = librosa.feature.mfcc(y=y, sr=sr, n_mfcc=64, n_fft =int(sr*0.025), hop_length = int(sr*0.010))\n",
        "            preprocess_train_Mand = mat[:,0:1000].T\n",
        "            train_seq_Mand = np.append(train_seq_Mand, preprocess_train_Mand)\n"
      ],
      "execution_count": null,
      "outputs": []
    },
    {
      "cell_type": "code",
      "metadata": {
        "id": "-RVOIolouaRA",
        "outputId": "838cac99-f2c6-499e-dacf-1735841b4520"
      },
      "source": [
        ""
      ],
      "execution_count": null,
      "outputs": [
        {
          "output_type": "stream",
          "text": [
            "hindi_0030.wav\n",
            "hindi_0024.wav\n",
            "hindi_0018.wav\n",
            "hindi_0019.wav\n",
            "hindi_0025.wav\n",
            "hindi_0031.wav\n",
            "hindi_0027.wav\n",
            "hindi_0033.wav\n",
            "hindi_0032.wav\n",
            "hindi_0026.wav\n",
            "hindi_0022.wav\n",
            "hindi_0023.wav\n",
            "hindi_0009.wav\n",
            "hindi_0021.wav\n",
            "hindi_0020.wav\n",
            "hindi_0008.wav\n",
            "hindi_0011.wav\n",
            "hindi_0005.wav\n",
            "hindi_0004.wav\n",
            "hindi_0010.wav\n",
            "hindi_0006.wav\n",
            "hindi_0012.wav\n",
            "hindi_0013.wav\n",
            "hindi_0007.wav\n",
            "hindi_0003.wav\n",
            "hindi_0017.wav\n",
            "hindi_0016.wav\n",
            "hindi_0002.wav\n",
            "hindi_0028.wav\n",
            "hindi_0014.wav\n",
            "hindi_0001.wav\n",
            "hindi_0015.wav\n",
            "hindi_0029.wav\n",
            "english_0059.wav\n",
            "english_0065.wav\n",
            "english_0071.wav\n",
            "english_0111.wav\n",
            "english_0105.wav\n",
            "english_0104.wav\n",
            "english_0110.wav\n",
            "english_0070.wav\n",
            "english_0064.wav\n",
            "english_0058.wav\n",
            "english_0072.wav\n",
            "english_0066.wav\n",
            "english_0099.wav\n",
            "english_0106.wav\n",
            "english_0112.wav\n",
            "english_0113.wav\n",
            "english_0107.wav\n",
            "english_0098.wav\n",
            "english_0067.wav\n",
            "english_0073.wav\n",
            "english_0077.wav\n",
            "english_0063.wav\n",
            "english_0088.wav\n",
            "english_0103.wav\n",
            "english_0117.wav\n",
            "english_0116.wav\n",
            "english_0102.wav\n",
            "english_0089.wav\n",
            "english_0062.wav\n",
            "english_0076.wav\n",
            "english_0060.wav\n",
            "english_0074.wav\n",
            "english_0048.wav\n",
            "english_0114.wav\n",
            "english_0100.wav\n",
            "english_0101.wav\n",
            "english_0115.wav\n",
            "english_0049.wav\n",
            "english_0075.wav\n",
            "english_0061.wav\n",
            "english_0006.wav\n",
            "english_0012.wav\n",
            "english_0013.wav\n",
            "english_0007.wav\n",
            "english_0039.wav\n",
            "english_0011.wav\n",
            "english_0005.wav\n",
            "english_0004.wav\n",
            "english_0010.wav\n",
            "english_0038.wav\n",
            "english_0014.wav\n",
            "english_0028.wav\n",
            "english_0029.wav\n",
            "english_0001.wav\n",
            "english_0015.wav\n",
            "english_0003.wav\n",
            "english_0017.wav\n",
            "english_0016.wav\n",
            "english_0002.wav\n",
            "english_0027.wav\n",
            "english_0033.wav\n",
            "english_0032.wav\n",
            "english_0026.wav\n",
            "english_0018.wav\n",
            "english_0030.wav\n",
            "english_0024.wav\n",
            "english_0025.wav\n",
            "english_0031.wav\n",
            "english_0019.wav\n",
            "english_0035.wav\n",
            "english_0021.wav\n",
            "english_0009.wav\n",
            "english_0008.wav\n",
            "english_0020.wav\n",
            "english_0034.wav\n",
            "english_0022.wav\n",
            "english_0036.wav\n",
            "english_0037.wav\n",
            "english_0023.wav\n",
            "english_0078.wav\n",
            "english_0044.wav\n",
            "english_0050.wav\n",
            "english_0087.wav\n",
            "english_0093.wav\n",
            "english_0118.wav\n",
            "english_0119.wav\n",
            "english_0092.wav\n",
            "english_0086.wav\n",
            "english_0051.wav\n",
            "english_0045.wav\n",
            "english_0079.wav\n",
            "english_0053.wav\n",
            "english_0047.wav\n",
            "english_0090.wav\n",
            "english_0084.wav\n",
            "english_0085.wav\n",
            "english_0091.wav\n",
            "english_0046.wav\n",
            "english_0052.wav\n",
            "english_0056.wav\n",
            "english_0042.wav\n",
            "english_0095.wav\n",
            "english_0081.wav\n",
            "english_0080.wav\n",
            "english_0094.wav\n",
            "english_0043.wav\n",
            "english_0057.wav\n",
            "english_0041.wav\n",
            "english_0055.wav\n",
            "english_0069.wav\n",
            "english_0082.wav\n",
            "english_0096.wav\n",
            "english_0121.wav\n",
            "english_0109.wav\n",
            "english_0108.wav\n",
            "english_0120.wav\n",
            "english_0097.wav\n",
            "english_0083.wav\n",
            "english_0068.wav\n",
            "english_0054.wav\n",
            "english_0040.wav\n",
            "mandarin_0003.wav\n",
            "mandarin_0017.wav\n",
            "mandarin_0016.wav\n",
            "mandarin_0002.wav\n",
            "mandarin_0014.wav\n",
            "mandarin_0028.wav\n",
            "mandarin_0029.wav\n",
            "mandarin_0001.wav\n",
            "mandarin_0015.wav\n",
            "mandarin_0039.wav\n",
            "mandarin_0011.wav\n",
            "mandarin_0005.wav\n",
            "mandarin_0004.wav\n",
            "mandarin_0010.wav\n",
            "mandarin_0038.wav\n",
            "mandarin_0006.wav\n",
            "mandarin_0012.wav\n",
            "mandarin_0013.wav\n",
            "mandarin_0007.wav\n",
            "mandarin_0060.wav\n",
            "mandarin_0074.wav\n",
            "mandarin_0048.wav\n",
            "mandarin_0049.wav\n",
            "mandarin_0075.wav\n",
            "mandarin_0061.wav\n",
            "mandarin_0077.wav\n",
            "mandarin_0063.wav\n",
            "mandarin_0062.wav\n",
            "mandarin_0076.wav\n",
            "mandarin_0072.wav\n",
            "mandarin_0066.wav\n",
            "mandarin_0067.wav\n",
            "mandarin_0073.wav\n",
            "mandarin_0059.wav\n",
            "mandarin_0065.wav\n",
            "mandarin_0071.wav\n",
            "mandarin_0070.wav\n",
            "mandarin_0064.wav\n",
            "mandarin_0058.wav\n",
            "mandarin_0041.wav\n",
            "mandarin_0055.wav\n",
            "mandarin_0069.wav\n",
            "mandarin_0082.wav\n",
            "mandarin_0083.wav\n",
            "mandarin_0068.wav\n",
            "mandarin_0054.wav\n",
            "mandarin_0040.wav\n",
            "mandarin_0056.wav\n",
            "mandarin_0042.wav\n",
            "mandarin_0081.wav\n",
            "mandarin_0080.wav\n",
            "mandarin_0043.wav\n",
            "mandarin_0057.wav\n",
            "mandarin_0053.wav\n",
            "mandarin_0047.wav\n",
            "mandarin_0084.wav\n",
            "mandarin_0085.wav\n",
            "mandarin_0046.wav\n",
            "mandarin_0052.wav\n",
            "mandarin_0078.wav\n",
            "mandarin_0044.wav\n",
            "mandarin_0050.wav\n",
            "mandarin_0051.wav\n",
            "mandarin_0045.wav\n",
            "mandarin_0079.wav\n",
            "mandarin_0022.wav\n",
            "mandarin_0036.wav\n",
            "mandarin_0037.wav\n",
            "mandarin_0023.wav\n",
            "mandarin_0035.wav\n",
            "mandarin_0021.wav\n",
            "mandarin_0009.wav\n",
            "mandarin_0008.wav\n",
            "mandarin_0020.wav\n",
            "mandarin_0034.wav\n",
            "mandarin_0018.wav\n",
            "mandarin_0030.wav\n",
            "mandarin_0024.wav\n",
            "mandarin_0025.wav\n",
            "mandarin_0031.wav\n",
            "mandarin_0019.wav\n",
            "mandarin_0027.wav\n",
            "mandarin_0033.wav\n",
            "mandarin_0032.wav\n",
            "mandarin_0026.wav\n"
          ],
          "name": "stdout"
        }
      ]
    },
    {
      "cell_type": "code",
      "metadata": {
        "scrolled": true,
        "id": "QD_WLpRTuaRB",
        "outputId": "cfb7d020-54fb-4527-f55b-9c5a377850a3"
      },
      "source": [
        "print(train_seq_eng.shape)\n",
        "print(train_seq_hindi.shape)\n",
        "print(train_seq_Mand.shape)\n",
        "\n",
        "print(preprocess_train_Mand.shape)"
      ],
      "execution_count": null,
      "outputs": [
        {
          "output_type": "stream",
          "text": [
            "(7744000,)\n",
            "(2112000,)\n",
            "(5440000,)\n",
            "(1000, 64)\n"
          ],
          "name": "stdout"
        }
      ]
    },
    {
      "cell_type": "code",
      "metadata": {
        "id": "Ins3dZiBuaRB"
      },
      "source": [
        "#Reshaping\n",
        "English_SEQ = np.reshape(train_seq_eng, [121,1000,64])\n",
        "Labels_eng = np.zeros([121,1000,1])\n",
        "Hindi_SEQ = np.reshape(train_seq_hindi, [33,1000,64])\n",
        "Labels_Hindi = np.ones([33,1000,1])\n",
        "Mand_SEQ = np.reshape(train_seq_Mand, [85,1000,64])\n",
        "Labels_Mand = np.ones([85,1000,1])*2\n",
        "\n",
        "Train_data = np.vstack([English_SEQ,Hindi_SEQ, Mand_SEQ])\n",
        "labels = np.vstack([Labels_eng, Labels_Hindi, Labels_Mand])\n",
        "np.save('Train_data', Train_data)\n",
        "np.save('Labels', labels)"
      ],
      "execution_count": null,
      "outputs": []
    },
    {
      "cell_type": "code",
      "metadata": {
        "id": "VCIvnojluaRB"
      },
      "source": [
        "labelsf = np.reshape(labels, [239*1000, 1])\n",
        "dataf = np.reshape(Train_data, [239*1000, 64])\n",
        "rng_state = np.random.get_state()\n",
        "np.random.shuffle(dataf)\n",
        "np.random.set_state(rng_state)\n",
        "np.random.shuffle(labelsf)\n",
        "labels = np.reshape(labelsf, [239, 1000, 1])\n",
        "Train_data = np.reshape(dataf, [239, 1000, 64])\n"
      ],
      "execution_count": null,
      "outputs": []
    },
    {
      "cell_type": "code",
      "metadata": {
        "id": "ddepm_jrvmfG"
      },
      "source": [
        "Train_data = np.load('Train_data.npy')\n",
        "labels = np.load('Labels.npy')"
      ],
      "execution_count": 4,
      "outputs": []
    },
    {
      "cell_type": "code",
      "metadata": {
        "colab": {
          "base_uri": "https://localhost:8080/"
        },
        "id": "xgFnLvKCw28i",
        "outputId": "4f747bf8-1973-4c15-f009-4be7cf683f47"
      },
      "source": [
        "print(labels.shape)"
      ],
      "execution_count": 5,
      "outputs": [
        {
          "output_type": "stream",
          "text": [
            "(315, 1000, 1)\n"
          ],
          "name": "stdout"
        }
      ]
    },
    {
      "cell_type": "code",
      "metadata": {
        "colab": {
          "base_uri": "https://localhost:8080/"
        },
        "id": "9InY8GIxv3gD",
        "outputId": "41dc2f8a-3e6d-4403-88f4-61d1bf5f5fa1"
      },
      "source": [
        "labelsf = np.reshape(labels, [315*1000, 1])\n",
        "dataf = np.reshape(Train_data, [315*1000, 64])\n",
        "rng_state = np.random.get_state()\n",
        "np.random.shuffle(dataf)\n",
        "np.random.set_state(rng_state)\n",
        "np.random.shuffle(labelsf)\n",
        "labels = np.reshape(labelsf, [315, 1000, 1])\n",
        "Train_data = np.reshape(dataf, [315, 1000, 64])\n",
        "\n",
        "\n",
        "\n",
        "print(Train_data .shape)\n",
        "print(labels.shape)\n"
      ],
      "execution_count": 6,
      "outputs": [
        {
          "output_type": "stream",
          "text": [
            "(315, 1000, 64)\n",
            "(315, 1000, 1)\n"
          ],
          "name": "stdout"
        }
      ]
    },
    {
      "cell_type": "code",
      "metadata": {
        "id": "Ru2x8Rc4uaRB"
      },
      "source": [
        "lab = np.reshape(labels, [315*1000,])\n",
        "class_weights = class_weight.compute_class_weight('balanced', np.unique(lab), lab)"
      ],
      "execution_count": 7,
      "outputs": []
    },
    {
      "cell_type": "code",
      "metadata": {
        "id": "sKfD-YtwuaRB"
      },
      "source": [
        "# ######  Define/Build/Train Training Model\n",
        "# training_in_shape = x.shape[1:]\n",
        "# training_in = Input(shape=training_in_shape)\n",
        "# # training_in = Input(batch_shape=(None,train_seq_length,feature_dim)) this works too\n",
        "# foo = GRU(4, return_sequences=True, stateful=False)(training_in)\n",
        "# training_pred = Dense(1)(foo)\n",
        "\n",
        "# training_model = Model(inputs=training_in, outputs=training_pred)\n",
        "# training_model.compile(loss='mean_squared_error', optimizer='adam')\n",
        "# training_model.summary()\n",
        " \n",
        "# training_model.fit(x, y, batch_size=2, epochs=100)\n",
        "\n",
        "\n",
        "#Train Model\n",
        "training_in_shape = Train_data.shape[1:]\n",
        "training_in = Input(shape = training_in_shape)\n",
        "Var = GRU(1240, return_sequences=True, stateful = False)(training_in)\n",
        "training_pred = Dense(3, activation = 'softmax')(Var)"
      ],
      "execution_count": 9,
      "outputs": []
    },
    {
      "cell_type": "code",
      "metadata": {
        "colab": {
          "base_uri": "https://localhost:8080/"
        },
        "id": "i2tyFzQruaRB",
        "outputId": "956d4657-2a1a-42e8-933d-8ce47c879e8c"
      },
      "source": [
        "training_model = Model(inputs = training_in, outputs = training_pred)\n",
        "training_model.compile(loss = keras.losses.SparseCategoricalCrossentropy(),\n",
        "                      optimizer = 'adam',\n",
        "                      metrics = ['accuracy'])\n",
        "training_model.summary()"
      ],
      "execution_count": 10,
      "outputs": [
        {
          "output_type": "stream",
          "text": [
            "Model: \"functional_1\"\n",
            "_________________________________________________________________\n",
            "Layer (type)                 Output Shape              Param #   \n",
            "=================================================================\n",
            "input_1 (InputLayer)         [(None, 1000, 64)]        0         \n",
            "_________________________________________________________________\n",
            "gru (GRU)                    (None, 1000, 1240)        4858320   \n",
            "_________________________________________________________________\n",
            "dense (Dense)                (None, 1000, 3)           3723      \n",
            "=================================================================\n",
            "Total params: 4,862,043\n",
            "Trainable params: 4,862,043\n",
            "Non-trainable params: 0\n",
            "_________________________________________________________________\n"
          ],
          "name": "stdout"
        }
      ]
    },
    {
      "cell_type": "code",
      "metadata": {
        "colab": {
          "base_uri": "https://localhost:8080/"
        },
        "id": "fBlunPpuuaRB",
        "outputId": "8320143c-0a04-49f8-f9c2-a3f8a09f575c"
      },
      "source": [
        "results = training_model.fit(Train_data, labels, batch_size = 4, epochs = 20,\n",
        "                            validation_split = 0.2, weights=class_weights)"
      ],
      "execution_count": 12,
      "outputs": [
        {
          "output_type": "stream",
          "text": [
            "Epoch 1/20\n",
            "63/63 [==============================] - 15s 238ms/step - loss: 1.0958 - accuracy: 0.5018 - val_loss: 0.9143 - val_accuracy: 0.5487\n",
            "Epoch 2/20\n",
            "63/63 [==============================] - 15s 234ms/step - loss: 0.8927 - accuracy: 0.5673 - val_loss: 0.8761 - val_accuracy: 0.5873\n",
            "Epoch 3/20\n",
            "63/63 [==============================] - 15s 236ms/step - loss: 0.8539 - accuracy: 0.6046 - val_loss: 0.8593 - val_accuracy: 0.5967\n",
            "Epoch 4/20\n",
            "63/63 [==============================] - 15s 238ms/step - loss: 0.8264 - accuracy: 0.6261 - val_loss: 0.8297 - val_accuracy: 0.6298\n",
            "Epoch 5/20\n",
            "63/63 [==============================] - 15s 239ms/step - loss: 0.7994 - accuracy: 0.6475 - val_loss: 0.8114 - val_accuracy: 0.6413\n",
            "Epoch 6/20\n",
            "63/63 [==============================] - 15s 238ms/step - loss: 0.7820 - accuracy: 0.6565 - val_loss: 0.8004 - val_accuracy: 0.6473\n",
            "Epoch 7/20\n",
            "63/63 [==============================] - 15s 236ms/step - loss: 0.7613 - accuracy: 0.6713 - val_loss: 0.7938 - val_accuracy: 0.6501\n",
            "Epoch 8/20\n",
            "63/63 [==============================] - 15s 236ms/step - loss: 0.7475 - accuracy: 0.6786 - val_loss: 0.7905 - val_accuracy: 0.6499\n",
            "Epoch 9/20\n",
            "63/63 [==============================] - 15s 236ms/step - loss: 0.7323 - accuracy: 0.6881 - val_loss: 0.8110 - val_accuracy: 0.6333\n",
            "Epoch 10/20\n",
            "63/63 [==============================] - 15s 237ms/step - loss: 0.7278 - accuracy: 0.6870 - val_loss: 0.7849 - val_accuracy: 0.6491\n",
            "Epoch 11/20\n",
            "63/63 [==============================] - 15s 238ms/step - loss: 0.7118 - accuracy: 0.6969 - val_loss: 0.7730 - val_accuracy: 0.6612\n",
            "Epoch 12/20\n",
            "63/63 [==============================] - 15s 237ms/step - loss: 0.6968 - accuracy: 0.7057 - val_loss: 0.7747 - val_accuracy: 0.6596\n",
            "Epoch 13/20\n",
            "63/63 [==============================] - 15s 237ms/step - loss: 0.6926 - accuracy: 0.7062 - val_loss: 0.7726 - val_accuracy: 0.6576\n",
            "Epoch 14/20\n",
            "63/63 [==============================] - 15s 237ms/step - loss: 0.6727 - accuracy: 0.7196 - val_loss: 0.7767 - val_accuracy: 0.6586\n",
            "Epoch 15/20\n",
            "63/63 [==============================] - 15s 237ms/step - loss: 0.6641 - accuracy: 0.7226 - val_loss: 0.7724 - val_accuracy: 0.6625\n",
            "Epoch 16/20\n",
            "63/63 [==============================] - 15s 237ms/step - loss: 0.6552 - accuracy: 0.7252 - val_loss: 0.7691 - val_accuracy: 0.6637\n",
            "Epoch 17/20\n",
            "63/63 [==============================] - 15s 237ms/step - loss: 0.6632 - accuracy: 0.7170 - val_loss: 0.7884 - val_accuracy: 0.6534\n",
            "Epoch 18/20\n",
            "63/63 [==============================] - 15s 237ms/step - loss: 0.6476 - accuracy: 0.7277 - val_loss: 0.7715 - val_accuracy: 0.6608\n",
            "Epoch 19/20\n",
            "63/63 [==============================] - 15s 237ms/step - loss: 0.6203 - accuracy: 0.7454 - val_loss: 0.7856 - val_accuracy: 0.6589\n",
            "Epoch 20/20\n",
            "63/63 [==============================] - 15s 237ms/step - loss: 0.6106 - accuracy: 0.7499 - val_loss: 0.7825 - val_accuracy: 0.6507\n"
          ],
          "name": "stdout"
        }
      ]
    },
    {
      "cell_type": "code",
      "metadata": {
        "id": "m8jV9gjxuaRB",
        "colab": {
          "base_uri": "https://localhost:8080/",
          "height": 550
        },
        "outputId": "965a0586-3ce6-428c-f3d1-62546d10d253"
      },
      "source": [
        "##### define the streaming-infernece model\n",
        "streaming_in = Input(batch_shape=(1,None,64))  ## stateful ==> needs batch_shape specified\n",
        "foo = GRU(1240, return_sequences=False, stateful=True )(streaming_in)\n",
        "streaming_pred = Dense(3, activation = 'softmax')(foo)\n",
        "streaming_model = Model(inputs=streaming_in, outputs=streaming_pred)\n",
        "\n",
        "streaming_model.compile(loss = keras.losses.SparseCategoricalCrossentropy(),\n",
        "                      optimizer = 'adam',\n",
        "                      metrics = ['accuracy'])\n",
        "streaming_model.summary()\n",
        "\n",
        "\n",
        "###### copy the weights from trained model to streaming-inference model\n",
        "training_model.save_weights('weights.hdf5', overwrite=True)\n",
        "streaming_model.load_weights('weights.hdf5')\n",
        "keras.utils.plot_model(training_model, to_file='Streaming_Model.png', show_shapes=True, show_layer_names=True)"
      ],
      "execution_count": 13,
      "outputs": [
        {
          "output_type": "stream",
          "text": [
            "Model: \"functional_3\"\n",
            "_________________________________________________________________\n",
            "Layer (type)                 Output Shape              Param #   \n",
            "=================================================================\n",
            "input_2 (InputLayer)         [(1, None, 64)]           0         \n",
            "_________________________________________________________________\n",
            "gru_1 (GRU)                  (1, 1240)                 4858320   \n",
            "_________________________________________________________________\n",
            "dense_1 (Dense)              (1, 3)                    3723      \n",
            "=================================================================\n",
            "Total params: 4,862,043\n",
            "Trainable params: 4,862,043\n",
            "Non-trainable params: 0\n",
            "_________________________________________________________________\n"
          ],
          "name": "stdout"
        },
        {
          "output_type": "execute_result",
          "data": {
            "image/png": "[encoded data removed]",
            "text/plain": [
              "<IPython.core.display.Image object>"
            ]
          },
          "metadata": {
            "tags": []
          },
          "execution_count": 13
        }
      ]
    },
    {
      "cell_type": "code",
      "metadata": {
        "id": "E_-NJw3ZuaRB",
        "colab": {
          "base_uri": "https://localhost:8080/",
          "height": 741
        },
        "outputId": "cc55f0fc-de5a-4a5a-9ba8-785ad7898e30"
      },
      "source": [
        "DEMO = 1\n",
        "if DEMO:\n",
        "    ##### demo the behaivor\n",
        "    print('\\n\\n******the streaming-inference model can replicate the sequence-based trained model:\\n')\n",
        "    for s in range(1):\n",
        "        print(f'\\n\\nRunning Sequence {s} with STATE RESET:\\n')\n",
        "        for n in range(20):\n",
        "            in_feature_vector = Train_data[s][n].reshape(1,1,64)\n",
        "            single_pred = streaming_model.predict(in_feature_vector)[0]\n",
        "            print(single_pred)\n",
        "            streaming_model.reset_states()\n",
        "                  \n",
        "            p1 = plt.scatter(n, single_pred[0], color = 'blue')\n",
        "            p2 = plt.scatter(n, single_pred[1], color = 'red')\n",
        "            p3 = plt.scatter(n, single_pred[2], color = 'green')\n",
        "    p1.set_label('English')\n",
        "    p2.set_label('Hindi')\n",
        "    p3.set_label('Mandarin')\n",
        "    plt.savefig('model_plot.png')\n",
        "    plt.legend()\n",
        "    plt.show()\n",
        "                  "
      ],
      "execution_count": 14,
      "outputs": [
        {
          "output_type": "stream",
          "text": [
            "\n",
            "\n",
            "******the streaming-inference model can replicate the sequence-based trained model:\n",
            "\n",
            "\n",
            "\n",
            "Running Sequence 0 with STATE RESET:\n",
            "\n",
            "[0.67665035 0.12242746 0.20092219]\n",
            "[0.39797    0.10419966 0.49783042]\n",
            "[0.62348    0.19339027 0.18312977]\n",
            "[0.41122323 0.17810647 0.41067025]\n",
            "[0.6642383  0.2237378  0.11202388]\n",
            "[0.36370924 0.17547193 0.46081886]\n",
            "[0.23948018 0.12746783 0.63305205]\n",
            "[0.0808401  0.0538922  0.86526775]\n",
            "[0.33085865 0.01074776 0.6583936 ]\n",
            "[0.774194   0.01497133 0.21083461]\n",
            "[0.8234371  0.05134393 0.12521906]\n",
            "[0.08177238 0.397115   0.5211126 ]\n",
            "[0.30090886 0.5225376  0.17655356]\n",
            "[0.623402   0.17184678 0.20475125]\n",
            "[0.38063926 0.02606308 0.59329766]\n",
            "[0.15136564 0.33030823 0.5183261 ]\n",
            "[0.7159335  0.08181728 0.20224917]\n",
            "[0.46971613 0.48360056 0.04668334]\n",
            "[0.5566758  0.02232899 0.42099524]\n",
            "[0.87847835 0.11126647 0.01025515]\n"
          ],
          "name": "stdout"
        },
        {
          "output_type": "display_data",
          "data": {
            "image/png": "[encoded data removed]",
            "text/plain": [
              "<Figure size 432x288 with 1 Axes>"
            ]
          },
          "metadata": {
            "tags": [],
            "needs_background": "light"
          }
        }
      ]
    },
    {
      "cell_type": "code",
      "metadata": {
        "id": "AZ04d_IWuaRC"
      },
      "source": [
        "training_model.save('EE599_HW5_training_charu.hdf5')"
      ],
      "execution_count": 15,
      "outputs": []
    },
    {
      "cell_type": "code",
      "metadata": {
        "id": "WPu81R-QuaRC"
      },
      "source": [
        "training_model.save('EE599_HW5_Streaming_charu.hdf5')"
      ],
      "execution_count": 16,
      "outputs": []
    },
    {
      "cell_type": "code",
      "metadata": {
        "id": "yYnolJ3ksSdh"
      },
      "source": [
        ""
      ],
      "execution_count": null,
      "outputs": []
    },
    {
      "cell_type": "code",
      "metadata": {
        "id": "0Tche_HwuaRC",
        "colab": {
          "base_uri": "https://localhost:8080/",
          "height": 749
        },
        "outputId": "ef598cd2-3ac9-460f-924b-d7c99cf2aaf4"
      },
      "source": [
        "#Provide Val_data with dimensions (Num_sequences, Num_samples, 64)\n",
        "\n",
        "import librosa\n",
        "import os\n",
        "import numpy as np\n",
        "import pandas as pd\n",
        "import glob, os\n",
        "from dask.distributed import LocalCluster\n",
        "from dask.diagnostics import ProgressBar\n",
        "import dask.bag as dbag\n",
        "import argparse\n",
        "import matplotlib.pyplot as plt\n",
        "import shutil\n",
        "from tensorflow.keras.layers import Input, Dense, GRU, Dropout\n",
        "from tensorflow.keras import Model\n",
        "import tensorflow\n",
        "from tensorflow import keras\n",
        "\n",
        "from tensorflow.keras import regularizers\n",
        "from sklearn.utils import class_weight\n",
        "from tensorflow.keras.models import load_model\n",
        "\n",
        "\n",
        "\n",
        "streaming_model = load_model('EE599_HW5_Streaming.hdf5')\n",
        "\n",
        "DEMO = 1\n",
        "if DEMO:\n",
        "    ##### demo the behaivor\n",
        "    print('\\n\\n******the streaming-inference model can replicate the sequence-based trained model:\\n')\n",
        "    for s in range(Num_sequences):\n",
        "        print(f'\\n\\nRunning Sequence {s} with STATE RESET:\\n')\n",
        "        for n in range(Num_samples):\n",
        "            in_feature_vector = Val_data[s][n].reshape(1,1,64)\n",
        "            single_pred = streaming_model.predict(in_feature_vector)[0]\n",
        "            print(single_pred)\n",
        "            streaming_model.reset_states()"
      ],
      "execution_count": 17,
      "outputs": [
        {
          "output_type": "error",
          "ename": "ImportError",
          "evalue": "ignored",
          "traceback": [
            "\u001b[0;31m---------------------------------------------------------------------------\u001b[0m",
            "\u001b[0;31mImportError\u001b[0m                               Traceback (most recent call last)",
            "\u001b[0;32m/usr/local/lib/python3.6/dist-packages/dask/bag/__init__.py\u001b[0m in \u001b[0;36m<module>\u001b[0;34m()\u001b[0m\n\u001b[1;32m      1\u001b[0m \u001b[0;32mtry\u001b[0m\u001b[0;34m:\u001b[0m\u001b[0;34m\u001b[0m\u001b[0;34m\u001b[0m\u001b[0m\n\u001b[0;32m----> 2\u001b[0;31m     from .core import (\n\u001b[0m\u001b[1;32m      3\u001b[0m         \u001b[0mBag\u001b[0m\u001b[0;34m,\u001b[0m\u001b[0;34m\u001b[0m\u001b[0;34m\u001b[0m\u001b[0m\n",
            "\u001b[0;32m/usr/local/lib/python3.6/dist-packages/dask/bag/core.py\u001b[0m in \u001b[0;36m<module>\u001b[0;34m()\u001b[0m\n\u001b[1;32m     66\u001b[0m \u001b[0;32mfrom\u001b[0m \u001b[0;34m.\u001b[0m\u001b[0;34m.\u001b[0m\u001b[0mbase\u001b[0m \u001b[0;32mimport\u001b[0m \u001b[0mtokenize\u001b[0m\u001b[0;34m,\u001b[0m \u001b[0mdont_optimize\u001b[0m\u001b[0;34m,\u001b[0m \u001b[0mDaskMethodsMixin\u001b[0m\u001b[0;34m\u001b[0m\u001b[0;34m\u001b[0m\u001b[0m\n\u001b[0;32m---> 67\u001b[0;31m \u001b[0;32mfrom\u001b[0m \u001b[0;34m.\u001b[0m\u001b[0;34m.\u001b[0m\u001b[0mbytes\u001b[0m \u001b[0;32mimport\u001b[0m \u001b[0mopen_files\u001b[0m\u001b[0;34m\u001b[0m\u001b[0;34m\u001b[0m\u001b[0m\n\u001b[0m\u001b[1;32m     68\u001b[0m \u001b[0;32mfrom\u001b[0m \u001b[0;34m.\u001b[0m\u001b[0;34m.\u001b[0m\u001b[0mcontext\u001b[0m \u001b[0;32mimport\u001b[0m \u001b[0mglobalmethod\u001b[0m\u001b[0;34m\u001b[0m\u001b[0;34m\u001b[0m\u001b[0m\n",
            "\u001b[0;32m/usr/local/lib/python3.6/dist-packages/dask/bytes/__init__.py\u001b[0m in \u001b[0;36m<module>\u001b[0;34m()\u001b[0m\n\u001b[1;32m      9\u001b[0m     raise ImportError(\n\u001b[0;32m---> 10\u001b[0;31m         \u001b[0;34m\"fsspec is required to use any file-system functionality.\"\u001b[0m\u001b[0;34m\u001b[0m\u001b[0;34m\u001b[0m\u001b[0m\n\u001b[0m\u001b[1;32m     11\u001b[0m         \u001b[0;34m\" Please install using\\n\"\u001b[0m\u001b[0;34m\u001b[0m\u001b[0;34m\u001b[0m\u001b[0m\n",
            "\u001b[0;31mImportError\u001b[0m: fsspec is required to use any file-system functionality. Please install using\nconda install -c conda-forge 'fsspec>=0.3.3'\nor\npython -m pip install 'fsspec>=0.3.3'",
            "\nDuring handling of the above exception, another exception occurred:\n",
            "\u001b[0;31mImportError\u001b[0m                               Traceback (most recent call last)",
            "\u001b[0;32m<ipython-input-17-427d2972c3ad>\u001b[0m in \u001b[0;36m<module>\u001b[0;34m()\u001b[0m\n\u001b[1;32m      8\u001b[0m \u001b[0;32mfrom\u001b[0m \u001b[0mdask\u001b[0m\u001b[0;34m.\u001b[0m\u001b[0mdistributed\u001b[0m \u001b[0;32mimport\u001b[0m \u001b[0mLocalCluster\u001b[0m\u001b[0;34m\u001b[0m\u001b[0;34m\u001b[0m\u001b[0m\n\u001b[1;32m      9\u001b[0m \u001b[0;32mfrom\u001b[0m \u001b[0mdask\u001b[0m\u001b[0;34m.\u001b[0m\u001b[0mdiagnostics\u001b[0m \u001b[0;32mimport\u001b[0m \u001b[0mProgressBar\u001b[0m\u001b[0;34m\u001b[0m\u001b[0;34m\u001b[0m\u001b[0m\n\u001b[0;32m---> 10\u001b[0;31m \u001b[0;32mimport\u001b[0m \u001b[0mdask\u001b[0m\u001b[0;34m.\u001b[0m\u001b[0mbag\u001b[0m \u001b[0;32mas\u001b[0m \u001b[0mdbag\u001b[0m\u001b[0;34m\u001b[0m\u001b[0;34m\u001b[0m\u001b[0m\n\u001b[0m\u001b[1;32m     11\u001b[0m \u001b[0;32mimport\u001b[0m \u001b[0margparse\u001b[0m\u001b[0;34m\u001b[0m\u001b[0;34m\u001b[0m\u001b[0m\n\u001b[1;32m     12\u001b[0m \u001b[0;32mimport\u001b[0m \u001b[0mmatplotlib\u001b[0m\u001b[0;34m.\u001b[0m\u001b[0mpyplot\u001b[0m \u001b[0;32mas\u001b[0m \u001b[0mplt\u001b[0m\u001b[0;34m\u001b[0m\u001b[0;34m\u001b[0m\u001b[0m\n",
            "\u001b[0;32m/usr/local/lib/python3.6/dist-packages/dask/bag/__init__.py\u001b[0m in \u001b[0;36m<module>\u001b[0;34m()\u001b[0m\n\u001b[1;32m     24\u001b[0m         \u001b[0;34m\"  python -m pip install dask[bag] --upgrade  # or python -m pip install\"\u001b[0m\u001b[0;34m\u001b[0m\u001b[0;34m\u001b[0m\u001b[0m\n\u001b[1;32m     25\u001b[0m     )\n\u001b[0;32m---> 26\u001b[0;31m     \u001b[0;32mraise\u001b[0m \u001b[0mImportError\u001b[0m\u001b[0;34m(\u001b[0m\u001b[0mstr\u001b[0m\u001b[0;34m(\u001b[0m\u001b[0me\u001b[0m\u001b[0;34m)\u001b[0m \u001b[0;34m+\u001b[0m \u001b[0;34m\"\\n\\n\"\u001b[0m \u001b[0;34m+\u001b[0m \u001b[0mmsg\u001b[0m\u001b[0;34m)\u001b[0m\u001b[0;34m\u001b[0m\u001b[0;34m\u001b[0m\u001b[0m\n\u001b[0m",
            "\u001b[0;31mImportError\u001b[0m: fsspec is required to use any file-system functionality. Please install using\nconda install -c conda-forge 'fsspec>=0.3.3'\nor\npython -m pip install 'fsspec>=0.3.3'\n\nDask bag requirements are not installed.\n\nPlease either conda or pip install as follows:\n\n  conda install dask               # either conda install\n  python -m pip install dask[bag] --upgrade  # or python -m pip install",
            "",
            "\u001b[0;31m---------------------------------------------------------------------------\u001b[0;32m\nNOTE: If your import is failing due to a missing package, you can\nmanually install dependencies using either !pip or !apt.\n\nTo view examples of installing some common dependencies, click the\n\"Open Examples\" button below.\n\u001b[0;31m---------------------------------------------------------------------------\u001b[0m\n"
          ]
        }
      ]
    }
  ]
}